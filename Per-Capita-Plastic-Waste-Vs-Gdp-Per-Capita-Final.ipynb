{
 "cells": [
  {
   "cell_type": "markdown",
   "id": "e9767f11",
   "metadata": {},
   "source": [
    "# Title: Global plastic usage: future impact awareness"
   ]
  },
  {
   "cell_type": "markdown",
   "id": "52d3aaff",
   "metadata": {},
   "source": [
    "##  EDA, PCA & ML\n"
   ]
  },
  {
   "cell_type": "markdown",
   "id": "b7ebdb42",
   "metadata": {},
   "source": [
    "### Introduction"
   ]
  },
  {
   "cell_type": "markdown",
   "id": "4b661351",
   "metadata": {},
   "source": [
    "This report undertakes the identification of critical issues associated with global plastic usage. The pervasive problem of plastic consumption unfolds as a multidimensional crisis demanding immediate attention. With each passing day, the escalating reliance on plastic exacerbates, posing severe consequences for the environment and future generations"
   ]
  },
  {
   "cell_type": "markdown",
   "id": "503ae530",
   "metadata": {},
   "source": [
    "## Import Libraries"
   ]
  },
  {
   "cell_type": "code",
   "execution_count": null,
   "id": "b25902ec",
   "metadata": {},
   "outputs": [],
   "source": []
  }
 ],
 "metadata": {
  "kernelspec": {
   "display_name": "Python 3 (ipykernel)",
   "language": "python",
   "name": "python3"
  },
  "language_info": {
   "codemirror_mode": {
    "name": "ipython",
    "version": 3
   },
   "file_extension": ".py",
   "mimetype": "text/x-python",
   "name": "python",
   "nbconvert_exporter": "python",
   "pygments_lexer": "ipython3",
   "version": "3.11.4"
  }
 },
 "nbformat": 4,
 "nbformat_minor": 5
}
