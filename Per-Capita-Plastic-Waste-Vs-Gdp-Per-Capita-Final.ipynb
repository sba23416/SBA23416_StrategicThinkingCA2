{
 "cells": [
  {
   "cell_type": "markdown",
   "id": "662be98e",
   "metadata": {},
   "source": [
    "# Title: Global plastic usage: future impact awareness"
   ]
  },
  {
   "cell_type": "markdown",
   "id": "c1d9a960",
   "metadata": {},
   "source": [
    "##  EDA, PCA & ML\n"
   ]
  },
  {
   "cell_type": "markdown",
   "id": "6ec7d04b",
   "metadata": {},
   "source": [
    "### Introduction"
   ]
  },
  {
   "cell_type": "markdown",
   "id": "bbca09b0",
   "metadata": {},
   "source": [
    "This report undertakes the identification of critical issues associated with global plastic usage. The pervasive problem of plastic consumption unfolds as a multidimensional crisis demanding immediate attention. With each passing day, the escalating reliance on plastic exacerbates, posing severe consequences for the environment and future generations"
   ]
  },
  {
   "cell_type": "markdown",
   "id": "e301994f",
   "metadata": {},
   "source": [
    "## Import Libraries"
   ]
  },
  {
   "cell_type": "markdown",
   "id": "02ed9f98",
   "metadata": {},
   "source": [
    "Imported libraries are assigned abbreviated formats, facilitating faster recall and utilization"
   ]
  },
  {
   "cell_type": "code",
   "execution_count": 2,
   "id": "72f3d3f0",
   "metadata": {},
   "outputs": [],
   "source": [
    "%matplotlib inline\n",
    "import pandas as pd\n",
    "import matplotlib.pyplot as plt\n",
    "import seaborn as sns\n",
    "sns.set_theme()\n",
    "import numpy as np\n",
    "\n",
    "from sklearn.preprocessing import StandardScaler, RobustScaler\n",
    "from sklearn.impute import KNNImputer\n",
    "\n",
    "from sklearn.decomposition import PCA\n",
    "\n",
    "from sklearn.preprocessing import LabelEncoder"
   ]
  },
  {
   "cell_type": "markdown",
   "id": "06c83e43",
   "metadata": {},
   "source": [
    "#### Importing Dataset"
   ]
  },
  {
   "cell_type": "code",
   "execution_count": 3,
   "id": "6e7dd4d8",
   "metadata": {},
   "outputs": [],
   "source": [
    "GB_df =pd.read_csv (\"per-capita-plastic-waste-vs-gdp-per-capita.csv\")"
   ]
  },
  {
   "cell_type": "markdown",
   "id": "da03d15e",
   "metadata": {},
   "source": [
    "## Exploratory Data Analysis (EDA)"
   ]
  },
  {
   "cell_type": "code",
   "execution_count": 4,
   "id": "d7be61e4",
   "metadata": {},
   "outputs": [
    {
     "data": {
      "text/html": [
       "<div>\n",
       "<style scoped>\n",
       "    .dataframe tbody tr th:only-of-type {\n",
       "        vertical-align: middle;\n",
       "    }\n",
       "\n",
       "    .dataframe tbody tr th {\n",
       "        vertical-align: top;\n",
       "    }\n",
       "\n",
       "    .dataframe thead th {\n",
       "        text-align: right;\n",
       "    }\n",
       "</style>\n",
       "<table border=\"1\" class=\"dataframe\">\n",
       "  <thead>\n",
       "    <tr style=\"text-align: right;\">\n",
       "      <th></th>\n",
       "      <th>Entity</th>\n",
       "      <th>Code</th>\n",
       "      <th>Year</th>\n",
       "      <th>Per capita plastic waste (kg/person/day)</th>\n",
       "      <th>GDP per capita, PPP (constant 2011 international $)</th>\n",
       "      <th>Total population (Gapminder, HYDE &amp; UN)</th>\n",
       "      <th>Continent</th>\n",
       "    </tr>\n",
       "  </thead>\n",
       "  <tbody>\n",
       "    <tr>\n",
       "      <th>0</th>\n",
       "      <td>Abkhazia</td>\n",
       "      <td>OWID_ABK</td>\n",
       "      <td>2015</td>\n",
       "      <td>NaN</td>\n",
       "      <td>NaN</td>\n",
       "      <td>NaN</td>\n",
       "      <td>Asia</td>\n",
       "    </tr>\n",
       "    <tr>\n",
       "      <th>1</th>\n",
       "      <td>Afghanistan</td>\n",
       "      <td>AFG</td>\n",
       "      <td>2002</td>\n",
       "      <td>NaN</td>\n",
       "      <td>1063.635574</td>\n",
       "      <td>22601000.0</td>\n",
       "      <td>NaN</td>\n",
       "    </tr>\n",
       "    <tr>\n",
       "      <th>2</th>\n",
       "      <td>Afghanistan</td>\n",
       "      <td>AFG</td>\n",
       "      <td>2003</td>\n",
       "      <td>NaN</td>\n",
       "      <td>1099.194507</td>\n",
       "      <td>23681000.0</td>\n",
       "      <td>NaN</td>\n",
       "    </tr>\n",
       "    <tr>\n",
       "      <th>3</th>\n",
       "      <td>Afghanistan</td>\n",
       "      <td>AFG</td>\n",
       "      <td>2004</td>\n",
       "      <td>NaN</td>\n",
       "      <td>1062.249360</td>\n",
       "      <td>24727000.0</td>\n",
       "      <td>NaN</td>\n",
       "    </tr>\n",
       "    <tr>\n",
       "      <th>4</th>\n",
       "      <td>Afghanistan</td>\n",
       "      <td>AFG</td>\n",
       "      <td>2005</td>\n",
       "      <td>NaN</td>\n",
       "      <td>1136.123214</td>\n",
       "      <td>25654000.0</td>\n",
       "      <td>NaN</td>\n",
       "    </tr>\n",
       "  </tbody>\n",
       "</table>\n",
       "</div>"
      ],
      "text/plain": [
       "        Entity      Code  Year  Per capita plastic waste (kg/person/day)  \\\n",
       "0     Abkhazia  OWID_ABK  2015                                       NaN   \n",
       "1  Afghanistan       AFG  2002                                       NaN   \n",
       "2  Afghanistan       AFG  2003                                       NaN   \n",
       "3  Afghanistan       AFG  2004                                       NaN   \n",
       "4  Afghanistan       AFG  2005                                       NaN   \n",
       "\n",
       "   GDP per capita, PPP (constant 2011 international $)  \\\n",
       "0                                                NaN     \n",
       "1                                        1063.635574     \n",
       "2                                        1099.194507     \n",
       "3                                        1062.249360     \n",
       "4                                        1136.123214     \n",
       "\n",
       "   Total population (Gapminder, HYDE & UN) Continent  \n",
       "0                                      NaN      Asia  \n",
       "1                               22601000.0       NaN  \n",
       "2                               23681000.0       NaN  \n",
       "3                               24727000.0       NaN  \n",
       "4                               25654000.0       NaN  "
      ]
     },
     "execution_count": 4,
     "metadata": {},
     "output_type": "execute_result"
    }
   ],
   "source": [
    "GB_df.head()"
   ]
  },
  {
   "cell_type": "markdown",
   "id": "fc8f7948",
   "metadata": {},
   "source": [
    "Size of the dataset : In this section i have identified the size of the dataset using the follow code below: Dataset size: (48168, 7)"
   ]
  },
  {
   "cell_type": "code",
   "execution_count": 5,
   "id": "26cb8b9f",
   "metadata": {},
   "outputs": [
    {
     "data": {
      "text/plain": [
       "(48168, 7)"
      ]
     },
     "execution_count": 5,
     "metadata": {},
     "output_type": "execute_result"
    }
   ],
   "source": [
    "GB_df.shape"
   ]
  },
  {
   "cell_type": "code",
   "execution_count": 6,
   "id": "491b576a",
   "metadata": {},
   "outputs": [
    {
     "name": "stdout",
     "output_type": "stream",
     "text": [
      "<class 'pandas.core.frame.DataFrame'>\n",
      "RangeIndex: 48168 entries, 0 to 48167\n",
      "Data columns (total 7 columns):\n",
      " #   Column                                               Non-Null Count  Dtype  \n",
      "---  ------                                               --------------  -----  \n",
      " 0   Entity                                               48168 non-null  object \n",
      " 1   Code                                                 46154 non-null  object \n",
      " 2   Year                                                 48168 non-null  int64  \n",
      " 3   Per capita plastic waste (kg/person/day)             186 non-null    float64\n",
      " 4   GDP per capita, PPP (constant 2011 international $)  6407 non-null   float64\n",
      " 5   Total population (Gapminder, HYDE & UN)              46883 non-null  float64\n",
      " 6   Continent                                            285 non-null    object \n",
      "dtypes: float64(3), int64(1), object(3)\n",
      "memory usage: 2.6+ MB\n"
     ]
    }
   ],
   "source": [
    "GB_df.info()"
   ]
  },
  {
   "cell_type": "code",
   "execution_count": 7,
   "id": "df138b48",
   "metadata": {},
   "outputs": [
    {
     "data": {
      "text/html": [
       "<div>\n",
       "<style scoped>\n",
       "    .dataframe tbody tr th:only-of-type {\n",
       "        vertical-align: middle;\n",
       "    }\n",
       "\n",
       "    .dataframe tbody tr th {\n",
       "        vertical-align: top;\n",
       "    }\n",
       "\n",
       "    .dataframe thead th {\n",
       "        text-align: right;\n",
       "    }\n",
       "</style>\n",
       "<table border=\"1\" class=\"dataframe\">\n",
       "  <thead>\n",
       "    <tr style=\"text-align: right;\">\n",
       "      <th></th>\n",
       "      <th>count</th>\n",
       "      <th>mean</th>\n",
       "      <th>std</th>\n",
       "      <th>min</th>\n",
       "      <th>25%</th>\n",
       "      <th>50%</th>\n",
       "      <th>75%</th>\n",
       "      <th>max</th>\n",
       "    </tr>\n",
       "  </thead>\n",
       "  <tbody>\n",
       "    <tr>\n",
       "      <th>Year</th>\n",
       "      <td>48168.0</td>\n",
       "      <td>1.903147e+03</td>\n",
       "      <td>3.157168e+02</td>\n",
       "      <td>-10000.00000</td>\n",
       "      <td>1859.000000</td>\n",
       "      <td>1.920000e+03</td>\n",
       "      <td>1.975000e+03</td>\n",
       "      <td>2.019000e+03</td>\n",
       "    </tr>\n",
       "    <tr>\n",
       "      <th>Per capita plastic waste (kg/person/day)</th>\n",
       "      <td>186.0</td>\n",
       "      <td>1.798118e-01</td>\n",
       "      <td>1.230064e-01</td>\n",
       "      <td>0.01000</td>\n",
       "      <td>0.103000</td>\n",
       "      <td>1.440000e-01</td>\n",
       "      <td>2.520000e-01</td>\n",
       "      <td>6.860000e-01</td>\n",
       "    </tr>\n",
       "    <tr>\n",
       "      <th>GDP per capita, PPP (constant 2011 international $)</th>\n",
       "      <td>6407.0</td>\n",
       "      <td>1.492610e+04</td>\n",
       "      <td>1.773975e+04</td>\n",
       "      <td>247.43654</td>\n",
       "      <td>3021.071807</td>\n",
       "      <td>8.447264e+03</td>\n",
       "      <td>1.960754e+04</td>\n",
       "      <td>1.353188e+05</td>\n",
       "    </tr>\n",
       "    <tr>\n",
       "      <th>Total population (Gapminder, HYDE &amp; UN)</th>\n",
       "      <td>46883.0</td>\n",
       "      <td>2.982790e+07</td>\n",
       "      <td>2.530860e+08</td>\n",
       "      <td>905.00000</td>\n",
       "      <td>201733.500000</td>\n",
       "      <td>1.542937e+06</td>\n",
       "      <td>5.886795e+06</td>\n",
       "      <td>7.713468e+09</td>\n",
       "    </tr>\n",
       "  </tbody>\n",
       "</table>\n",
       "</div>"
      ],
      "text/plain": [
       "                                                      count          mean  \\\n",
       "Year                                                48168.0  1.903147e+03   \n",
       "Per capita plastic waste (kg/person/day)              186.0  1.798118e-01   \n",
       "GDP per capita, PPP (constant 2011 internationa...   6407.0  1.492610e+04   \n",
       "Total population (Gapminder, HYDE & UN)             46883.0  2.982790e+07   \n",
       "\n",
       "                                                             std          min  \\\n",
       "Year                                                3.157168e+02 -10000.00000   \n",
       "Per capita plastic waste (kg/person/day)            1.230064e-01      0.01000   \n",
       "GDP per capita, PPP (constant 2011 internationa...  1.773975e+04    247.43654   \n",
       "Total population (Gapminder, HYDE & UN)             2.530860e+08    905.00000   \n",
       "\n",
       "                                                              25%  \\\n",
       "Year                                                  1859.000000   \n",
       "Per capita plastic waste (kg/person/day)                 0.103000   \n",
       "GDP per capita, PPP (constant 2011 internationa...    3021.071807   \n",
       "Total population (Gapminder, HYDE & UN)             201733.500000   \n",
       "\n",
       "                                                             50%  \\\n",
       "Year                                                1.920000e+03   \n",
       "Per capita plastic waste (kg/person/day)            1.440000e-01   \n",
       "GDP per capita, PPP (constant 2011 internationa...  8.447264e+03   \n",
       "Total population (Gapminder, HYDE & UN)             1.542937e+06   \n",
       "\n",
       "                                                             75%           max  \n",
       "Year                                                1.975000e+03  2.019000e+03  \n",
       "Per capita plastic waste (kg/person/day)            2.520000e-01  6.860000e-01  \n",
       "GDP per capita, PPP (constant 2011 internationa...  1.960754e+04  1.353188e+05  \n",
       "Total population (Gapminder, HYDE & UN)             5.886795e+06  7.713468e+09  "
      ]
     },
     "execution_count": 7,
     "metadata": {},
     "output_type": "execute_result"
    }
   ],
   "source": [
    "GB_df.describe().T"
   ]
  },
  {
   "cell_type": "markdown",
   "id": "90a9d09e",
   "metadata": {},
   "source": [
    "As there are many \"NaN\" values identified above, a quick look at the target variable's unique values will highlight if there are any \"na\" values in this target variable."
   ]
  },
  {
   "cell_type": "code",
   "execution_count": 8,
   "id": "4b13785c",
   "metadata": {
    "scrolled": true
   },
   "outputs": [
    {
     "data": {
      "text/plain": [
       "array(['Abkhazia', 'Afghanistan', 'Africa', 'Akrotiri and Dhekelia',\n",
       "       'Albania', 'Algeria', 'American Samoa', 'Andorra', 'Angola',\n",
       "       'Anguilla', 'Antarctica', 'Antigua and Barbuda', 'Arab World',\n",
       "       'Argentina', 'Armenia', 'Aruba', 'Asia', 'Australia', 'Austria',\n",
       "       'Austria-Hungary', 'Azerbaijan', 'Baden', 'Bahamas', 'Bahrain',\n",
       "       'Bangladesh', 'Barbados', 'Bavaria', 'Belarus', 'Belgium',\n",
       "       'Belize', 'Benin', 'Bermuda', 'Bhutan', 'Bolivia',\n",
       "       'Bonaire Sint Eustatius and Saba', 'Bosnia and Herzegovina',\n",
       "       'Botswana', 'Bouvet Island', 'Brazil',\n",
       "       'British Indian Ocean Territory', 'British Virgin Islands',\n",
       "       'Brunei', 'Bulgaria', 'Burkina Faso', 'Burundi', 'Cambodia',\n",
       "       'Cameroon', 'Canada', 'Cape Verde', 'Caribbean small states',\n",
       "       'Cayman Islands', 'Central African Republic',\n",
       "       'Central Europe and the Baltics', 'Chad', 'Channel Islands',\n",
       "       'Chile', 'China', 'Christmas Island', 'Cocos Islands', 'Colombia',\n",
       "       'Comoros', 'Congo', 'Cook Islands', 'Costa Rica', \"Cote d'Ivoire\",\n",
       "       'Croatia', 'Cuba', 'Curacao', 'Cyprus', 'Czechia',\n",
       "       'Czechoslovakia', 'Democratic Republic of Congo', 'Denmark',\n",
       "       'Djibouti', 'Dominica', 'Dominican Republic',\n",
       "       'Early-demographic dividend', 'East Asia & Pacific',\n",
       "       'East Asia & Pacific (IDA & IBRD)',\n",
       "       'East Asia & Pacific (excluding high income)', 'East Germany',\n",
       "       'Ecuador', 'Egypt', 'El Salvador', 'Equatorial Guinea', 'Eritrea',\n",
       "       'Eritrea and Ethiopia', 'Estonia', 'Eswatini', 'Ethiopia',\n",
       "       'Euro area', 'Europe', 'Europe & Central Asia',\n",
       "       'Europe & Central Asia (IDA & IBRD)',\n",
       "       'Europe & Central Asia (excluding high income)', 'European Union',\n",
       "       'Faeroe Islands', 'Falkland Islands', 'Fiji', 'Finland',\n",
       "       'Fragile and conflict affected situations', 'France',\n",
       "       'French Guiana', 'French Polynesia', 'French Southern Territories',\n",
       "       'Gabon', 'Gambia', 'Georgia', 'Germany', 'Ghana', 'Gibraltar',\n",
       "       'Greece', 'Greenland', 'Grenada', 'Guadeloupe', 'Guam',\n",
       "       'Guatemala', 'Guernsey', 'Guinea', 'Guinea-Bissau', 'Guyana',\n",
       "       'Haiti', 'Hanover', 'Heard Island and McDonald Islands',\n",
       "       'Heavily indebted poor countries (HIPC)', 'Hesse Electoral',\n",
       "       'Hesse Grand Ducal', 'High income', 'Honduras', 'Hong Kong',\n",
       "       'Hungary', 'IBRD only', 'IDA & IBRD total', 'IDA blend',\n",
       "       'IDA only', 'IDA total', 'Iceland', 'India', 'Indonesia', 'Iran',\n",
       "       'Iraq', 'Ireland', 'Isle of Man', 'Israel', 'Italy', 'Jamaica',\n",
       "       'Japan', 'Jersey', 'Jordan', 'Kazakhstan', 'Kenya', 'Kiribati',\n",
       "       'Kosovo', 'Kuwait', 'Kyrgyzstan', 'Laos',\n",
       "       'Late-demographic dividend', 'Latin America',\n",
       "       'Latin America & Caribbean',\n",
       "       'Latin America & Caribbean (IDA & IBRD)',\n",
       "       'Latin America & Caribbean (excluding high income)', 'Latvia',\n",
       "       'Least developed countries: UN classification', 'Lebanon',\n",
       "       'Lesotho', 'Liberia', 'Libya', 'Liechtenstein', 'Lithuania',\n",
       "       'Low & middle income', 'Low income', 'Lower middle income',\n",
       "       'Luxembourg', 'Macao', 'Madagascar', 'Malawi', 'Malaysia',\n",
       "       'Maldives', 'Mali', 'Malta', 'Marshall Islands', 'Martinique',\n",
       "       'Mauritania', 'Mauritius', 'Mayotte', 'Mecklenburg Schwerin',\n",
       "       'Mexico', 'Micronesia (country)', 'Middle East & North Africa',\n",
       "       'Middle East & North Africa (IDA & IBRD)',\n",
       "       'Middle East & North Africa (excluding high income)',\n",
       "       'Middle income', 'Modena', 'Moldova', 'Monaco', 'Mongolia',\n",
       "       'Montenegro', 'Montserrat', 'Morocco', 'Mozambique', 'Myanmar',\n",
       "       'Nagorno-Karabakh', 'Namibia', 'Nauru', 'Nepal', 'Netherlands',\n",
       "       'Netherlands Antilles', 'New Caledonia', 'New Zealand',\n",
       "       'Nicaragua', 'Niger', 'Nigeria', 'Niue', 'Norfolk Island',\n",
       "       'North America', 'North Korea', 'North Macedonia',\n",
       "       'Northern Cyprus', 'Northern Mariana Islands', 'Norway',\n",
       "       'OECD members', 'Oceania', 'Oman', 'Other small states',\n",
       "       'Pacific island small states', 'Pakistan', 'Palau', 'Palestine',\n",
       "       'Panama', 'Papua New Guinea', 'Paraguay', 'Parma', 'Peru',\n",
       "       'Philippines', 'Pitcairn', 'Poland', 'Portugal',\n",
       "       'Post-demographic dividend', 'Pre-demographic dividend',\n",
       "       'Puerto Rico', 'Qatar', 'Republic of Vietnam', 'Reunion',\n",
       "       'Romania', 'Russia', 'Rwanda', 'Saint Barthlemy',\n",
       "       'Saint Barthélemy', 'Saint Helena', 'Saint Kitts and Nevis',\n",
       "       'Saint Lucia', 'Saint Martin (French part)',\n",
       "       'Saint Pierre and Miquelon', 'Saint Vincent and the Grenadines',\n",
       "       'Samoa', 'San Marino', 'Sao Tome and Principe', 'Saudi Arabia',\n",
       "       'Saxony', 'Senegal', 'Serbia', 'Serbia and Montenegro',\n",
       "       'Serbia excluding Kosovo', 'Seychelles', 'Sierra Leone',\n",
       "       'Singapore', 'Sint Maarten (Dutch part)', 'Slovakia', 'Slovenia',\n",
       "       'Small states', 'Solomon Islands', 'Somalia', 'Somaliland',\n",
       "       'South Africa', 'South Asia', 'South Asia (IDA & IBRD)',\n",
       "       'South Georgia and the South Sandwich Islands', 'South Korea',\n",
       "       'South Ossetia', 'South Sudan', 'Spain', 'Sri Lanka',\n",
       "       'Sub-Saharan Africa', 'Sub-Saharan Africa (IDA & IBRD)',\n",
       "       'Sub-Saharan Africa (excluding high income)', 'Sudan', 'Suriname',\n",
       "       'Svalbard and Jan Mayen', 'Sweden', 'Switzerland', 'Syria',\n",
       "       'Taiwan', 'Tajikistan', 'Tanzania', 'Thailand', 'Timor', 'Togo',\n",
       "       'Tokelau', 'Tonga', 'Transnistria', 'Trinidad and Tobago',\n",
       "       'Tunisia', 'Turkey', 'Turkmenistan', 'Turks and Caicos Islands',\n",
       "       'Tuscany', 'Tuvalu', 'Two Sicilies', 'USSR', 'Uganda', 'Ukraine',\n",
       "       'United Arab Emirates', 'United Kingdom', 'United Korea',\n",
       "       'United States', 'United States Minor Outlying Islands',\n",
       "       'United States Virgin Islands', 'Upper middle income', 'Uruguay',\n",
       "       'Uzbekistan', 'Vanuatu', 'Vatican', 'Venezuela', 'Vietnam',\n",
       "       'Wallis and Futuna', 'West Germany', 'Western Sahara', 'World',\n",
       "       'Wuerttemburg', 'Yemen', 'Yemen Arab Republic',\n",
       "       \"Yemen People's Republic\", 'Yugoslavia', 'Zambia', 'Zanzibar',\n",
       "       'Zimbabwe', 'Åland Islands'], dtype=object)"
      ]
     },
     "execution_count": 8,
     "metadata": {},
     "output_type": "execute_result"
    }
   ],
   "source": [
    "GB_df[\"Entity\"].unique()"
   ]
  },
  {
   "cell_type": "markdown",
   "id": "19ed189e",
   "metadata": {},
   "source": [
    "Below, some variables are picked at random to investigate their unique values in order to reveal the most recurring missing value abbreviation used and whether there are any other string values present."
   ]
  },
  {
   "cell_type": "code",
   "execution_count": 9,
   "id": "4a863b30",
   "metadata": {
    "scrolled": true
   },
   "outputs": [
    {
     "data": {
      "text/plain": [
       "array([  2015,   2002,   2003,   2004,   2005,   2006,   2007,   2008,\n",
       "         2009,   2010,   2011,   2012,   2013,   2014,   2016,   2017,\n",
       "         1800,   1801,   1802,   1803,   1804,   1805,   1806,   1807,\n",
       "         1808,   1809,   1810,   1811,   1812,   1813,   1814,   1815,\n",
       "         1816,   1817,   1818,   1819,   1820,   1821,   1822,   1823,\n",
       "         1824,   1825,   1826,   1827,   1828,   1829,   1830,   1831,\n",
       "         1832,   1833,   1834,   1835,   1836,   1837,   1838,   1839,\n",
       "         1840,   1841,   1842,   1843,   1844,   1845,   1846,   1847,\n",
       "         1848,   1849,   1850,   1851,   1852,   1853,   1854,   1855,\n",
       "         1856,   1857,   1858,   1859,   1860,   1861,   1862,   1863,\n",
       "         1864,   1865,   1866,   1867,   1868,   1869,   1870,   1871,\n",
       "         1872,   1873,   1874,   1875,   1876,   1877,   1878,   1879,\n",
       "         1880,   1881,   1882,   1883,   1884,   1885,   1886,   1887,\n",
       "         1888,   1889,   1890,   1891,   1892,   1893,   1894,   1895,\n",
       "         1896,   1897,   1898,   1899,   1900,   1901,   1902,   1903,\n",
       "         1904,   1905,   1906,   1907,   1908,   1909,   1910,   1911,\n",
       "         1912,   1913,   1914,   1915,   1916,   1917,   1918,   1919,\n",
       "         1920,   1921,   1922,   1923,   1924,   1925,   1926,   1927,\n",
       "         1928,   1929,   1930,   1931,   1932,   1933,   1934,   1935,\n",
       "         1936,   1937,   1938,   1939,   1940,   1941,   1942,   1943,\n",
       "         1944,   1945,   1946,   1947,   1948,   1949,   1950,   1951,\n",
       "         1952,   1953,   1954,   1955,   1956,   1957,   1958,   1959,\n",
       "         1960,   1961,   1962,   1963,   1964,   1965,   1966,   1967,\n",
       "         1968,   1969,   1970,   1971,   1972,   1973,   1974,   1975,\n",
       "         1976,   1977,   1978,   1979,   1980,   1981,   1982,   1983,\n",
       "         1984,   1985,   1986,   1987,   1988,   1989,   1990,   1991,\n",
       "         1992,   1993,   1994,   1995,   1996,   1997,   1998,   1999,\n",
       "         2000,   2001,   2018,   2019, -10000,  -9000,  -8000,  -7000,\n",
       "        -6000,  -5000,  -4000,  -3000,  -2000,  -1000,      0,    100,\n",
       "          200,    300,    400,    500,    600,    700,    800,    900,\n",
       "         1000,   1100,   1200,   1300,   1400,   1500,   1600,   1700,\n",
       "         1710,   1720,   1730,   1740,   1750,   1760,   1770,   1780,\n",
       "         1790,      1], dtype=int64)"
      ]
     },
     "execution_count": 9,
     "metadata": {},
     "output_type": "execute_result"
    }
   ],
   "source": [
    "GB_df[\"Year\"].unique()"
   ]
  },
  {
   "cell_type": "code",
   "execution_count": 10,
   "id": "f47c680d",
   "metadata": {},
   "outputs": [
    {
     "data": {
      "text/plain": [
       "array(['Asia', nan, 'Europe', 'Africa', 'Oceania', 'North America',\n",
       "       'Antarctica', 'South America'], dtype=object)"
      ]
     },
     "execution_count": 10,
     "metadata": {},
     "output_type": "execute_result"
    }
   ],
   "source": [
    "GB_df[\"Continent\"].unique()"
   ]
  },
  {
   "cell_type": "code",
   "execution_count": 11,
   "id": "37fbacb8",
   "metadata": {
    "scrolled": true
   },
   "outputs": [
    {
     "data": {
      "text/plain": [
       "array([  nan, 0.069, 0.144, 0.062, 0.252, 0.66 , 0.183, 0.112, 0.39 ,\n",
       "       0.132, 0.034, 0.57 , 0.08 , 0.172, 0.043, 0.165, 0.026, 0.154,\n",
       "       0.066, 0.046, 0.093, 0.065, 0.119, 0.121, 0.201, 0.258, 0.103,\n",
       "       0.089, 0.248, 0.045, 0.047, 0.149, 0.147, 0.178, 0.176, 0.189,\n",
       "       0.234, 0.192, 0.054, 0.048, 0.068, 0.485, 0.04 , 0.2  , 0.325,\n",
       "       0.28 , 0.03 , 0.586, 0.09 , 0.398, 0.281, 0.01 , 0.057, 0.43 ,\n",
       "       0.297, 0.134, 0.171, 0.027, 0.686, 0.124, 0.094, 0.084, 0.368,\n",
       "       0.016, 0.198, 0.322, 0.214, 0.23 , 0.087, 0.073, 0.015, 0.075,\n",
       "       0.424, 0.331, 0.143, 0.063, 0.145, 0.097, 0.265, 0.16 , 0.042,\n",
       "       0.654, 0.522, 0.221, 0.156, 0.358, 0.041, 0.194, 0.24 , 0.277,\n",
       "       0.357, 0.163, 0.023, 0.223, 0.29 , 0.212, 0.199, 0.215, 0.335,\n",
       "       0.295])"
      ]
     },
     "execution_count": 11,
     "metadata": {},
     "output_type": "execute_result"
    }
   ],
   "source": [
    "GB_df[\"Per capita plastic waste (kg/person/day)\"].unique()"
   ]
  },
  {
   "cell_type": "code",
   "execution_count": 12,
   "id": "f84b2028",
   "metadata": {},
   "outputs": [
    {
     "data": {
      "text/plain": [
       "array([      nan, 22601000., 23681000., ...,  9200000., 14439000.,\n",
       "       14645000.])"
      ]
     },
     "execution_count": 12,
     "metadata": {},
     "output_type": "execute_result"
    }
   ],
   "source": [
    "GB_df[\"Total population (Gapminder, HYDE & UN)\"].unique()"
   ]
  },
  {
   "cell_type": "code",
   "execution_count": 13,
   "id": "d420ff0a",
   "metadata": {},
   "outputs": [
    {
     "data": {
      "text/plain": [
       "140925"
      ]
     },
     "execution_count": 13,
     "metadata": {},
     "output_type": "execute_result"
    }
   ],
   "source": [
    "GB_df.isnull().sum().sum()"
   ]
  },
  {
   "cell_type": "markdown",
   "id": "00ce1880",
   "metadata": {},
   "source": [
    "## Standardisation"
   ]
  },
  {
   "cell_type": "code",
   "execution_count": 14,
   "id": "146834d1",
   "metadata": {},
   "outputs": [],
   "source": [
    "missing_value_formats = [\"n.a.\",\"NA\",\"na\",\"n/a\",\"n\\a\",\"?\",\"--\"]\n",
    "GB_df = pd.read_csv(\"per-capita-plastic-waste-vs-gdp-per-capita.csv\", na_values = missing_value_formats)"
   ]
  },
  {
   "cell_type": "code",
   "execution_count": 15,
   "id": "0f0b2a6a",
   "metadata": {},
   "outputs": [
    {
     "data": {
      "text/plain": [
       "array(['Asia', nan, 'Europe', 'Africa', 'Oceania', 'North America',\n",
       "       'Antarctica', 'South America'], dtype=object)"
      ]
     },
     "execution_count": 15,
     "metadata": {},
     "output_type": "execute_result"
    }
   ],
   "source": [
    "GB_df[\"Continent\"].unique()"
   ]
  },
  {
   "cell_type": "code",
   "execution_count": 16,
   "id": "1c168d7f",
   "metadata": {},
   "outputs": [
    {
     "data": {
      "text/html": [
       "<div>\n",
       "<style scoped>\n",
       "    .dataframe tbody tr th:only-of-type {\n",
       "        vertical-align: middle;\n",
       "    }\n",
       "\n",
       "    .dataframe tbody tr th {\n",
       "        vertical-align: top;\n",
       "    }\n",
       "\n",
       "    .dataframe thead th {\n",
       "        text-align: right;\n",
       "    }\n",
       "</style>\n",
       "<table border=\"1\" class=\"dataframe\">\n",
       "  <thead>\n",
       "    <tr style=\"text-align: right;\">\n",
       "      <th></th>\n",
       "      <th>Entity</th>\n",
       "      <th>Code</th>\n",
       "      <th>Year</th>\n",
       "      <th>Per capita plastic waste (kg/person/day)</th>\n",
       "      <th>GDP per capita, PPP (constant 2011 international $)</th>\n",
       "      <th>Total population (Gapminder, HYDE &amp; UN)</th>\n",
       "      <th>Continent</th>\n",
       "    </tr>\n",
       "  </thead>\n",
       "  <tbody>\n",
       "    <tr>\n",
       "      <th>0</th>\n",
       "      <td>Abkhazia</td>\n",
       "      <td>OWID_ABK</td>\n",
       "      <td>2015</td>\n",
       "      <td>NaN</td>\n",
       "      <td>NaN</td>\n",
       "      <td>NaN</td>\n",
       "      <td>Asia</td>\n",
       "    </tr>\n",
       "    <tr>\n",
       "      <th>1</th>\n",
       "      <td>Afghanistan</td>\n",
       "      <td>AFG</td>\n",
       "      <td>2002</td>\n",
       "      <td>NaN</td>\n",
       "      <td>1063.635574</td>\n",
       "      <td>22601000.0</td>\n",
       "      <td>NaN</td>\n",
       "    </tr>\n",
       "    <tr>\n",
       "      <th>2</th>\n",
       "      <td>Afghanistan</td>\n",
       "      <td>AFG</td>\n",
       "      <td>2003</td>\n",
       "      <td>NaN</td>\n",
       "      <td>1099.194507</td>\n",
       "      <td>23681000.0</td>\n",
       "      <td>NaN</td>\n",
       "    </tr>\n",
       "    <tr>\n",
       "      <th>3</th>\n",
       "      <td>Afghanistan</td>\n",
       "      <td>AFG</td>\n",
       "      <td>2004</td>\n",
       "      <td>NaN</td>\n",
       "      <td>1062.249360</td>\n",
       "      <td>24727000.0</td>\n",
       "      <td>NaN</td>\n",
       "    </tr>\n",
       "    <tr>\n",
       "      <th>4</th>\n",
       "      <td>Afghanistan</td>\n",
       "      <td>AFG</td>\n",
       "      <td>2005</td>\n",
       "      <td>NaN</td>\n",
       "      <td>1136.123214</td>\n",
       "      <td>25654000.0</td>\n",
       "      <td>NaN</td>\n",
       "    </tr>\n",
       "  </tbody>\n",
       "</table>\n",
       "</div>"
      ],
      "text/plain": [
       "        Entity      Code  Year  Per capita plastic waste (kg/person/day)  \\\n",
       "0     Abkhazia  OWID_ABK  2015                                       NaN   \n",
       "1  Afghanistan       AFG  2002                                       NaN   \n",
       "2  Afghanistan       AFG  2003                                       NaN   \n",
       "3  Afghanistan       AFG  2004                                       NaN   \n",
       "4  Afghanistan       AFG  2005                                       NaN   \n",
       "\n",
       "   GDP per capita, PPP (constant 2011 international $)  \\\n",
       "0                                                NaN     \n",
       "1                                        1063.635574     \n",
       "2                                        1099.194507     \n",
       "3                                        1062.249360     \n",
       "4                                        1136.123214     \n",
       "\n",
       "   Total population (Gapminder, HYDE & UN) Continent  \n",
       "0                                      NaN      Asia  \n",
       "1                               22601000.0       NaN  \n",
       "2                               23681000.0       NaN  \n",
       "3                               24727000.0       NaN  \n",
       "4                               25654000.0       NaN  "
      ]
     },
     "execution_count": 16,
     "metadata": {},
     "output_type": "execute_result"
    }
   ],
   "source": [
    "GB_df.head()"
   ]
  },
  {
   "cell_type": "code",
   "execution_count": 17,
   "id": "06ef3234",
   "metadata": {},
   "outputs": [
    {
     "name": "stdout",
     "output_type": "stream",
     "text": [
      "<class 'pandas.core.frame.DataFrame'>\n",
      "RangeIndex: 48168 entries, 0 to 48167\n",
      "Data columns (total 7 columns):\n",
      " #   Column                                               Non-Null Count  Dtype  \n",
      "---  ------                                               --------------  -----  \n",
      " 0   Entity                                               48168 non-null  object \n",
      " 1   Code                                                 46154 non-null  object \n",
      " 2   Year                                                 48168 non-null  int64  \n",
      " 3   Per capita plastic waste (kg/person/day)             186 non-null    float64\n",
      " 4   GDP per capita, PPP (constant 2011 international $)  6407 non-null   float64\n",
      " 5   Total population (Gapminder, HYDE & UN)              46883 non-null  float64\n",
      " 6   Continent                                            285 non-null    object \n",
      "dtypes: float64(3), int64(1), object(3)\n",
      "memory usage: 2.6+ MB\n"
     ]
    }
   ],
   "source": [
    "GB_df.info()"
   ]
  },
  {
   "cell_type": "code",
   "execution_count": 18,
   "id": "d5caefae",
   "metadata": {},
   "outputs": [
    {
     "data": {
      "text/html": [
       "<div>\n",
       "<style scoped>\n",
       "    .dataframe tbody tr th:only-of-type {\n",
       "        vertical-align: middle;\n",
       "    }\n",
       "\n",
       "    .dataframe tbody tr th {\n",
       "        vertical-align: top;\n",
       "    }\n",
       "\n",
       "    .dataframe thead th {\n",
       "        text-align: right;\n",
       "    }\n",
       "</style>\n",
       "<table border=\"1\" class=\"dataframe\">\n",
       "  <thead>\n",
       "    <tr style=\"text-align: right;\">\n",
       "      <th></th>\n",
       "      <th>Year</th>\n",
       "      <th>Per capita plastic waste (kg/person/day)</th>\n",
       "      <th>GDP per capita, PPP (constant 2011 international $)</th>\n",
       "      <th>Total population (Gapminder, HYDE &amp; UN)</th>\n",
       "      <th>Year</th>\n",
       "      <th>Per capita plastic waste (kg/person/day)</th>\n",
       "      <th>GDP per capita, PPP (constant 2011 international $)</th>\n",
       "      <th>Total population (Gapminder, HYDE &amp; UN)</th>\n",
       "    </tr>\n",
       "  </thead>\n",
       "  <tbody>\n",
       "    <tr>\n",
       "      <th>count</th>\n",
       "      <td>48168.000000</td>\n",
       "      <td>186.000000</td>\n",
       "      <td>6407.000000</td>\n",
       "      <td>4.688300e+04</td>\n",
       "      <td>48168.000000</td>\n",
       "      <td>186.000000</td>\n",
       "      <td>6407.000000</td>\n",
       "      <td>4.688300e+04</td>\n",
       "    </tr>\n",
       "    <tr>\n",
       "      <th>mean</th>\n",
       "      <td>1903.147442</td>\n",
       "      <td>0.179812</td>\n",
       "      <td>14926.095591</td>\n",
       "      <td>2.982790e+07</td>\n",
       "      <td>1903.147442</td>\n",
       "      <td>0.179812</td>\n",
       "      <td>14926.095591</td>\n",
       "      <td>2.982790e+07</td>\n",
       "    </tr>\n",
       "    <tr>\n",
       "      <th>std</th>\n",
       "      <td>315.716839</td>\n",
       "      <td>0.123006</td>\n",
       "      <td>17739.754531</td>\n",
       "      <td>2.530860e+08</td>\n",
       "      <td>315.716839</td>\n",
       "      <td>0.123006</td>\n",
       "      <td>17739.754531</td>\n",
       "      <td>2.530860e+08</td>\n",
       "    </tr>\n",
       "    <tr>\n",
       "      <th>min</th>\n",
       "      <td>-10000.000000</td>\n",
       "      <td>0.010000</td>\n",
       "      <td>247.436540</td>\n",
       "      <td>9.050000e+02</td>\n",
       "      <td>-10000.000000</td>\n",
       "      <td>0.010000</td>\n",
       "      <td>247.436540</td>\n",
       "      <td>9.050000e+02</td>\n",
       "    </tr>\n",
       "    <tr>\n",
       "      <th>25%</th>\n",
       "      <td>1859.000000</td>\n",
       "      <td>0.103000</td>\n",
       "      <td>3021.071807</td>\n",
       "      <td>2.017335e+05</td>\n",
       "      <td>1859.000000</td>\n",
       "      <td>0.103000</td>\n",
       "      <td>3021.071807</td>\n",
       "      <td>2.017335e+05</td>\n",
       "    </tr>\n",
       "    <tr>\n",
       "      <th>50%</th>\n",
       "      <td>1920.000000</td>\n",
       "      <td>0.144000</td>\n",
       "      <td>8447.264179</td>\n",
       "      <td>1.542937e+06</td>\n",
       "      <td>1920.000000</td>\n",
       "      <td>0.144000</td>\n",
       "      <td>8447.264179</td>\n",
       "      <td>1.542937e+06</td>\n",
       "    </tr>\n",
       "    <tr>\n",
       "      <th>75%</th>\n",
       "      <td>1975.000000</td>\n",
       "      <td>0.252000</td>\n",
       "      <td>19607.537075</td>\n",
       "      <td>5.886795e+06</td>\n",
       "      <td>1975.000000</td>\n",
       "      <td>0.252000</td>\n",
       "      <td>19607.537075</td>\n",
       "      <td>5.886795e+06</td>\n",
       "    </tr>\n",
       "    <tr>\n",
       "      <th>max</th>\n",
       "      <td>2019.000000</td>\n",
       "      <td>0.686000</td>\n",
       "      <td>135318.754421</td>\n",
       "      <td>7.713468e+09</td>\n",
       "      <td>2019.000000</td>\n",
       "      <td>0.686000</td>\n",
       "      <td>135318.754421</td>\n",
       "      <td>7.713468e+09</td>\n",
       "    </tr>\n",
       "  </tbody>\n",
       "</table>\n",
       "</div>"
      ],
      "text/plain": [
       "               Year  Per capita plastic waste (kg/person/day)  \\\n",
       "count  48168.000000                                186.000000   \n",
       "mean    1903.147442                                  0.179812   \n",
       "std      315.716839                                  0.123006   \n",
       "min   -10000.000000                                  0.010000   \n",
       "25%     1859.000000                                  0.103000   \n",
       "50%     1920.000000                                  0.144000   \n",
       "75%     1975.000000                                  0.252000   \n",
       "max     2019.000000                                  0.686000   \n",
       "\n",
       "       GDP per capita, PPP (constant 2011 international $)  \\\n",
       "count                                        6407.000000     \n",
       "mean                                        14926.095591     \n",
       "std                                         17739.754531     \n",
       "min                                           247.436540     \n",
       "25%                                          3021.071807     \n",
       "50%                                          8447.264179     \n",
       "75%                                         19607.537075     \n",
       "max                                        135318.754421     \n",
       "\n",
       "       Total population (Gapminder, HYDE & UN)          Year  \\\n",
       "count                             4.688300e+04  48168.000000   \n",
       "mean                              2.982790e+07   1903.147442   \n",
       "std                               2.530860e+08    315.716839   \n",
       "min                               9.050000e+02 -10000.000000   \n",
       "25%                               2.017335e+05   1859.000000   \n",
       "50%                               1.542937e+06   1920.000000   \n",
       "75%                               5.886795e+06   1975.000000   \n",
       "max                               7.713468e+09   2019.000000   \n",
       "\n",
       "       Per capita plastic waste (kg/person/day)  \\\n",
       "count                                186.000000   \n",
       "mean                                   0.179812   \n",
       "std                                    0.123006   \n",
       "min                                    0.010000   \n",
       "25%                                    0.103000   \n",
       "50%                                    0.144000   \n",
       "75%                                    0.252000   \n",
       "max                                    0.686000   \n",
       "\n",
       "       GDP per capita, PPP (constant 2011 international $)  \\\n",
       "count                                        6407.000000     \n",
       "mean                                        14926.095591     \n",
       "std                                         17739.754531     \n",
       "min                                           247.436540     \n",
       "25%                                          3021.071807     \n",
       "50%                                          8447.264179     \n",
       "75%                                         19607.537075     \n",
       "max                                        135318.754421     \n",
       "\n",
       "       Total population (Gapminder, HYDE & UN)  \n",
       "count                             4.688300e+04  \n",
       "mean                              2.982790e+07  \n",
       "std                               2.530860e+08  \n",
       "min                               9.050000e+02  \n",
       "25%                               2.017335e+05  \n",
       "50%                               1.542937e+06  \n",
       "75%                               5.886795e+06  \n",
       "max                               7.713468e+09  "
      ]
     },
     "execution_count": 18,
     "metadata": {},
     "output_type": "execute_result"
    }
   ],
   "source": [
    "f5_l5_columns = pd.concat([GB_df.iloc[:, :6], GB_df.iloc[:,-5:]], axis = 1)\n",
    "f5_l5_columns.describe()"
   ]
  },
  {
   "cell_type": "markdown",
   "id": "1ceb4640",
   "metadata": {},
   "source": [
    "## Scatterplot Chart - Visualisation"
   ]
  },
  {
   "cell_type": "code",
   "execution_count": 19,
   "id": "e7c1aa5b",
   "metadata": {},
   "outputs": [
    {
     "data": {
      "image/png": "[encoded data removed]",
      "text/plain": [
       "<Figure size 640x480 with 1 Axes>"
      ]
     },
     "metadata": {},
     "output_type": "display_data"
    }
   ],
   "source": [
    "sns.scatterplot(x = GB_df[\"Year\"], y = GB_df[\"Total population (Gapminder, HYDE & UN)\"],\n",
    "                hue = GB_df[\"Per capita plastic waste (kg/person/day)\"], data = GB_df).set(title = \"Plastic Waste\");"
   ]
  },
  {
   "cell_type": "code",
   "execution_count": 20,
   "id": "844486f9",
   "metadata": {},
   "outputs": [
    {
     "data": {
      "image/png": "[encoded data removed]",
      "text/plain": [
       "<Figure size 640x480 with 1 Axes>"
      ]
     },
     "metadata": {},
     "output_type": "display_data"
    }
   ],
   "source": [
    "sns.scatterplot(x = GB_df[\"GDP per capita, PPP (constant 2011 international $)\"], y = GB_df[\"Year\"],\n",
    "                hue = GB_df[\"Per capita plastic waste (kg/person/day)\"], data = GB_df).set(title = \"Plastic Waste\");"
   ]
  },
  {
   "cell_type": "code",
   "execution_count": null,
   "id": "fd81d951",
   "metadata": {},
   "outputs": [],
   "source": [
    "variables = GB_df.iloc[:, :5]\n",
    "variables[\"Entity\"] = GB_df[\"Entity\"]\n",
    "sns.pairplot(variables, hue = \"Entity\")\n",
    "plt.suptitle(\"Pairplot of First 10 Variables\", fontsize = 28)\n",
    "plt.show()"
   ]
  }
 ],
 "metadata": {
  "kernelspec": {
   "display_name": "Python 3 (ipykernel)",
   "language": "python",
   "name": "python3"
  },
  "language_info": {
   "codemirror_mode": {
    "name": "ipython",
    "version": 3
   },
   "file_extension": ".py",
   "mimetype": "text/x-python",
   "name": "python",
   "nbconvert_exporter": "python",
   "pygments_lexer": "ipython3",
   "version": "3.11.4"
  }
 },
 "nbformat": 4,
 "nbformat_minor": 5
}
